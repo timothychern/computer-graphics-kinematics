{
  "nbformat": 4,
  "nbformat_minor": 0,
  "metadata": {
    "colab": {
      "name": "Digit GAN",
      "provenance": [],
      "authorship_tag": "ABX9TyMDs/gq+z3leuqh1zYYSvbx",
      "include_colab_link": true
    },
    "kernelspec": {
      "name": "python3",
      "display_name": "Python 3"
    },
    "accelerator": "GPU"
  },
  "cells": [
    {
      "cell_type": "markdown",
      "metadata": {
        "id": "view-in-github",
        "colab_type": "text"
      },
      "source": [
        "<a href=\"https://colab.research.google.com/github/timothychern/computer-graphics-kinematics/blob/master/Digit_GAN.ipynb\" target=\"_parent\"><img src=\"https://colab.research.google.com/assets/colab-badge.svg\" alt=\"Open In Colab\"/></a>"
      ]
    },
    {
      "cell_type": "code",
      "metadata": {
        "id": "KZWD77a6h2q9",
        "colab_type": "code",
        "colab": {}
      },
      "source": [
        "import torch\n",
        "import torch.nn as nn\n",
        "import numpy as np"
      ],
      "execution_count": 0,
      "outputs": []
    },
    {
      "cell_type": "code",
      "metadata": {
        "id": "wXnWhXLci6sA",
        "colab_type": "code",
        "colab": {}
      },
      "source": [
        "from mlxtend.data import loadlocal_mnist"
      ],
      "execution_count": 0,
      "outputs": []
    },
    {
      "cell_type": "code",
      "metadata": {
        "id": "-hYcQ64WmDwk",
        "colab_type": "code",
        "colab": {}
      },
      "source": [
        "import matplotlib.pyplot as plt"
      ],
      "execution_count": 0,
      "outputs": []
    },
    {
      "cell_type": "code",
      "metadata": {
        "id": "6Kw1s_AMh4I7",
        "colab_type": "code",
        "colab": {
          "base_uri": "https://localhost:8080/",
          "height": 34
        },
        "outputId": "748c5b0f-f69c-4922-8eb7-71ea45ce95be"
      },
      "source": [
        "torch.cuda.is_available()"
      ],
      "execution_count": 2,
      "outputs": [
        {
          "output_type": "execute_result",
          "data": {
            "text/plain": [
              "True"
            ]
          },
          "metadata": {
            "tags": []
          },
          "execution_count": 2
        }
      ]
    },
    {
      "cell_type": "code",
      "metadata": {
        "id": "ofqtPy2gj_0j",
        "colab_type": "code",
        "colab": {}
      },
      "source": [
        "use_cuda = True"
      ],
      "execution_count": 0,
      "outputs": []
    },
    {
      "cell_type": "code",
      "metadata": {
        "id": "aVrA6Vq0iGHf",
        "colab_type": "code",
        "colab": {
          "base_uri": "https://localhost:8080/",
          "height": 68
        },
        "outputId": "15163cf4-20b1-4726-c0b1-e25ff7d16ced"
      },
      "source": [
        "!curl -O http://yann.lecun.com/exdb/mnist/train-images-idx3-ubyte.gz"
      ],
      "execution_count": 6,
      "outputs": [
        {
          "output_type": "stream",
          "text": [
            "  % Total    % Received % Xferd  Average Speed   Time    Time     Time  Current\n",
            "                                 Dload  Upload   Total   Spent    Left  Speed\n",
            "100 9680k  100 9680k    0     0  36.7M      0 --:--:-- --:--:-- --:--:-- 36.7M\n"
          ],
          "name": "stdout"
        }
      ]
    },
    {
      "cell_type": "code",
      "metadata": {
        "id": "ZnIvOIwri0yU",
        "colab_type": "code",
        "colab": {
          "base_uri": "https://localhost:8080/",
          "height": 68
        },
        "outputId": "a24b6cf4-72b6-41db-c7bd-0d26057d79b6"
      },
      "source": [
        "!curl -O http://yann.lecun.com/exdb/mnist/train-labels-idx1-ubyte.gz"
      ],
      "execution_count": 7,
      "outputs": [
        {
          "output_type": "stream",
          "text": [
            "  % Total    % Received % Xferd  Average Speed   Time    Time     Time  Current\n",
            "                                 Dload  Upload   Total   Spent    Left  Speed\n",
            "\r  0     0    0     0    0     0      0      0 --:--:-- --:--:-- --:--:--     0\r100 28881  100 28881    0     0   391k      0 --:--:-- --:--:-- --:--:--  391k\n"
          ],
          "name": "stdout"
        }
      ]
    },
    {
      "cell_type": "code",
      "metadata": {
        "id": "cwIT7Kgqi3Mo",
        "colab_type": "code",
        "colab": {}
      },
      "source": [
        "!gunzip t*-ubyte.gz"
      ],
      "execution_count": 0,
      "outputs": []
    },
    {
      "cell_type": "code",
      "metadata": {
        "id": "85qvRtFni-j0",
        "colab_type": "code",
        "colab": {}
      },
      "source": [
        "def load_data():\n",
        "    \n",
        "    X, y = loadlocal_mnist(\n",
        "        images_path=\"train-images-idx3-ubyte\", \n",
        "        labels_path=\"train-labels-idx1-ubyte\")\n",
        "    X = torch.from_numpy(X).float()/255.\n",
        "    y = torch.ones(y.shape[0])\n",
        "    return X, y"
      ],
      "execution_count": 0,
      "outputs": []
    },
    {
      "cell_type": "code",
      "metadata": {
        "id": "M07kKyXIjurO",
        "colab_type": "code",
        "colab": {}
      },
      "source": [
        "train_data, train_label = load_data()"
      ],
      "execution_count": 0,
      "outputs": []
    },
    {
      "cell_type": "code",
      "metadata": {
        "id": "H_eJ7QlRjyd-",
        "colab_type": "code",
        "colab": {}
      },
      "source": [
        "train_data = torch.reshape(train_data ,[-1, 1, 28, 28])\n",
        "train_label = torch.reshape(train_label ,[-1, 1])"
      ],
      "execution_count": 0,
      "outputs": []
    },
    {
      "cell_type": "code",
      "metadata": {
        "id": "sk6B2k2wj4oM",
        "colab_type": "code",
        "colab": {}
      },
      "source": [
        ""
      ],
      "execution_count": 0,
      "outputs": []
    },
    {
      "cell_type": "code",
      "metadata": {
        "id": "Qv_1oOwQh_bw",
        "colab_type": "code",
        "colab": {}
      },
      "source": [
        "class Discriminator(nn.Module):\n",
        "    ### Layers    Shape\n",
        "    ### --------- ------------------\n",
        "    ### Input     (None, 28, 28, 1)\n",
        "    ### Conv_1    (None, 14, 14, 32)\n",
        "    ### leakyrelu (None, 14, 14, 32)\n",
        "    ### dropout   (None, 14, 14, 32)\n",
        "    ### flatten   (None, 6272)\n",
        "    ### Dense     (None, 784)\n",
        "    ### leakyrelu (None, 784)\n",
        "    ### dropout   (None, 784)\n",
        "    ### dense     (None, 1)\n",
        "    ### sigmoid   (None, 1)\n",
        "    \n",
        "    \n",
        "    def __init__(self):\n",
        "        super(Discriminator, self).__init__()\n",
        "        self.layers= nn.Sequential(\n",
        "            nn.Conv2d(1, 32, 3, stride=2, padding=1),\n",
        "            nn.LeakyReLU(),\n",
        "            nn.Dropout(),\n",
        "            nn.Flatten(),\n",
        "            nn.Linear(6272, 784),\n",
        "            nn.LeakyReLU(),\n",
        "            nn.Dropout(),\n",
        "            nn.Linear(784, 1),\n",
        "            nn.Sigmoid()\n",
        "        )\n",
        "        \n",
        "    def forward(self, x):\n",
        "        return self.layers(x)"
      ],
      "execution_count": 0,
      "outputs": []
    },
    {
      "cell_type": "code",
      "metadata": {
        "id": "r6HstyRzkLU1",
        "colab_type": "code",
        "colab": {}
      },
      "source": [
        "d = Discriminator()"
      ],
      "execution_count": 0,
      "outputs": []
    },
    {
      "cell_type": "code",
      "metadata": {
        "id": "v-BqVDYbkM_R",
        "colab_type": "code",
        "colab": {
          "base_uri": "https://localhost:8080/",
          "height": 238
        },
        "outputId": "be620522-88f3-420f-fc95-3d1a03db995b"
      },
      "source": [
        "d.cuda()"
      ],
      "execution_count": 24,
      "outputs": [
        {
          "output_type": "execute_result",
          "data": {
            "text/plain": [
              "Discriminator(\n",
              "  (layers): Sequential(\n",
              "    (0): Conv2d(1, 32, kernel_size=(3, 3), stride=(2, 2), padding=(1, 1))\n",
              "    (1): LeakyReLU(negative_slope=0.01)\n",
              "    (2): Dropout(p=0.5, inplace=False)\n",
              "    (3): Flatten()\n",
              "    (4): Linear(in_features=6272, out_features=784, bias=True)\n",
              "    (5): LeakyReLU(negative_slope=0.01)\n",
              "    (6): Dropout(p=0.5, inplace=False)\n",
              "    (7): Linear(in_features=784, out_features=1, bias=True)\n",
              "    (8): Sigmoid()\n",
              "  )\n",
              ")"
            ]
          },
          "metadata": {
            "tags": []
          },
          "execution_count": 24
        }
      ]
    },
    {
      "cell_type": "code",
      "metadata": {
        "id": "20y7vi9pkOk1",
        "colab_type": "code",
        "colab": {
          "base_uri": "https://localhost:8080/",
          "height": 136
        },
        "outputId": "9fca3746-c092-40f9-9904-636162eaf87a"
      },
      "source": [
        "d(train_data)"
      ],
      "execution_count": 28,
      "outputs": [
        {
          "output_type": "execute_result",
          "data": {
            "text/plain": [
              "tensor([[0.4579],\n",
              "        [0.5049],\n",
              "        [0.4903],\n",
              "        ...,\n",
              "        [0.4963],\n",
              "        [0.4800],\n",
              "        [0.4774]], device='cuda:0', grad_fn=<SigmoidBackward>)"
            ]
          },
          "metadata": {
            "tags": []
          },
          "execution_count": 28
        }
      ]
    },
    {
      "cell_type": "code",
      "metadata": {
        "id": "hhaNB9rckRBi",
        "colab_type": "code",
        "colab": {}
      },
      "source": [
        "train_data = train_data.cuda()\n",
        "train_label = train_label.cuda()"
      ],
      "execution_count": 0,
      "outputs": []
    },
    {
      "cell_type": "code",
      "metadata": {
        "id": "SXm53Y-WkmJg",
        "colab_type": "code",
        "colab": {}
      },
      "source": [
        "class Generator(nn.Module):\n",
        "    ### Layers    Shape\n",
        "    ### --------- ------------------\n",
        "    ### Input     (None, 784)\n",
        "    ### Dense     (None, 6272)\n",
        "    ### LeakyRelu (None, 6272)\n",
        "    ### dropout   (None, 6272)\n",
        "    ### reshape   (None, 14, 14, 32)\n",
        "    ### 2Dconv_T  (None, 28, 28, 32)\n",
        "    ### leakrelu  (None, 28, 28, 32)\n",
        "    ### dropout   (None, 28, 28, 32)\n",
        "    ### 2Dconv_T  (None, 28, 28, 1)\n",
        "    ### tanh      (None, 28, 28, 1)\n",
        "    \n",
        "    \n",
        "    def __init__(self, input_length: int=784):\n",
        "        super(Generator, self).__init__()\n",
        "        self.layers_1D = nn.Sequential(\n",
        "            nn.Linear(784, 6272),\n",
        "            nn.LeakyReLU(),\n",
        "            nn.Dropout()\n",
        "        )\n",
        "        self.layers_2D = nn.Sequential(\n",
        "            nn.ConvTranspose2d(32, 32, 4, stride=2, padding=1),\n",
        "            nn.LeakyReLU(),\n",
        "            nn.Dropout(),\n",
        "            nn.ConvTranspose2d(32, 1, 3, stride=1, padding=1),\n",
        "            nn.Tanh()\n",
        "        )\n",
        "        \n",
        "    def forward(self, x):\n",
        "        x = self.layers_1D(x)\n",
        "        x = torch.reshape(x ,[-1, 32, 14, 14])\n",
        "        x = self.layers_2D(x)\n",
        "        return 0.5*(x+1)"
      ],
      "execution_count": 0,
      "outputs": []
    },
    {
      "cell_type": "code",
      "metadata": {
        "id": "XXhlR8MElz1v",
        "colab_type": "code",
        "colab": {}
      },
      "source": [
        "def train(batch_size: int=16, \n",
        "          noise_size: int=784,\n",
        "          epoch: int=50,\n",
        "          learning_rate: float=0.001,\n",
        "          print_result_at: int=10):\n",
        "    \n",
        "    G = Generator(noise_size)\n",
        "    D = Discriminator()\n",
        "    \n",
        "    if use_cuda and torch.cuda.is_available():\n",
        "        G.cuda()\n",
        "        D.cuda()\n",
        "\n",
        "    optimizer_G = torch.optim.Adam(G.parameters(), lr=learning_rate)\n",
        "    optimizer_D = torch.optim.Adam(D.parameters(), lr=learning_rate)\n",
        "    \n",
        "    loss = nn.BCELoss()\n",
        "    \n",
        "    for i in range(epoch):\n",
        "        optimizer_G.zero_grad()\n",
        "        noise = torch.normal(mean=0., std=1., size=(batch_size, noise_size)).cuda()\n",
        "        generated_data = G(noise)\n",
        "        \n",
        "        generator_discriminator_out = D(generated_data)\n",
        "        generator_loss = loss(generator_discriminator_out, torch.ones((batch_size,1)).cuda())\n",
        "        generator_loss.backward()\n",
        "        optimizer_G.step()\n",
        "        \n",
        "        optimizer_D.zero_grad()\n",
        "        true_discriminator_out = D(train_data)\n",
        "        true_discriminator_loss = loss(true_discriminator_out, train_label)\n",
        "        \n",
        "        generator_discriminator_out = D(generated_data.detach())\n",
        "        generator_discrimator_loss = loss(generator_discriminator_out, torch.zeros((batch_size,1)).cuda())\n",
        "        discriminator_loss = 0.5 * (true_discriminator_loss + generator_discrimator_loss)\n",
        "        discriminator_loss.backward()\n",
        "        optimizer_D.step()\n",
        "        \n",
        "        if i % print_result_at == 0:\n",
        "            img = generated_data[0].reshape((28,28))\n",
        "            plt.imshow(img.cpu().detach())\n",
        "            plt.show()"
      ],
      "execution_count": 0,
      "outputs": []
    },
    {
      "cell_type": "code",
      "metadata": {
        "id": "KY8gNU2Cl_og",
        "colab_type": "code",
        "colab": {
          "base_uri": "https://localhost:8080/",
          "height": 1000
        },
        "outputId": "92b262bb-fa85-44d0-acb8-335a9dc28fd3"
      },
      "source": [
        "train(batch_size=100)"
      ],
      "execution_count": 47,
      "outputs": [
        {
          "output_type": "display_data",
          "data": {
            "image/png": "[encoded data removed]",
            "text/plain": [
              "<Figure size 432x288 with 1 Axes>"
            ]
          },
          "metadata": {
            "tags": [],
            "needs_background": "light"
          }
        },
        {
          "output_type": "display_data",
          "data": {
            "image/png": "[encoded data removed]",
            "text/plain": [
              "<Figure size 432x288 with 1 Axes>"
            ]
          },
          "metadata": {
            "tags": [],
            "needs_background": "light"
          }
        },
        {
          "output_type": "display_data",
          "data": {
            "image/png": "[encoded data removed]",
            "text/plain": [
              "<Figure size 432x288 with 1 Axes>"
            ]
          },
          "metadata": {
            "tags": [],
            "needs_background": "light"
          }
        },
        {
          "output_type": "display_data",
          "data": {
            "image/png": "[encoded data removed]",
            "text/plain": [
              "<Figure size 432x288 with 1 Axes>"
            ]
          },
          "metadata": {
            "tags": [],
            "needs_background": "light"
          }
        },
        {
          "output_type": "display_data",
          "data": {
            "image/png": "[encoded data removed]",
            "text/plain": [
              "<Figure size 432x288 with 1 Axes>"
            ]
          },
          "metadata": {
            "tags": [],
            "needs_background": "light"
          }
        }
      ]
    },
    {
      "cell_type": "code",
      "metadata": {
        "id": "-XdQDP9GmGl8",
        "colab_type": "code",
        "colab": {
          "base_uri": "https://localhost:8080/",
          "height": 282
        },
        "outputId": "b015c773-c6e5-49c0-9ad3-9399ea60e5d0"
      },
      "source": [
        "plt.imshow(train_data[10].reshape(28,28).cpu())"
      ],
      "execution_count": 46,
      "outputs": [
        {
          "output_type": "execute_result",
          "data": {
            "text/plain": [
              "<matplotlib.image.AxesImage at 0x7fc66bb73128>"
            ]
          },
          "metadata": {
            "tags": []
          },
          "execution_count": 46
        },
        {
          "output_type": "display_data",
          "data": {
            "image/png": "[encoded data removed]",
            "text/plain": [
              "<Figure size 432x288 with 1 Axes>"
            ]
          },
          "metadata": {
            "tags": [],
            "needs_background": "light"
          }
        }
      ]
    },
    {
      "cell_type": "code",
      "metadata": {
        "id": "TP2mh0x8m8PI",
        "colab_type": "code",
        "colab": {}
      },
      "source": [
        ""
      ],
      "execution_count": 0,
      "outputs": []
    }
  ]
}